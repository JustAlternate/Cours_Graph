{
 "cells": [
  {
   "cell_type": "code",
   "execution_count": 2,
   "id": "236ce9ca-447a-4772-a0e4-48835612a210",
   "metadata": {},
   "outputs": [],
   "source": [
    "import numpy as np"
   ]
  },
  {
   "cell_type": "markdown",
   "id": "066779c6-1fc3-46f6-b42c-91cbb4c8f25b",
   "metadata": {},
   "source": [
    "# Test\n",
    "\n",
    "Coucou"
   ]
  },
  {
   "cell_type": "code",
   "execution_count": null,
   "id": "c457b1ee-3c3a-4760-9aef-e0c620e9ec08",
   "metadata": {},
   "outputs": [],
   "source": [
    "print(\"hey\")"
   ]
  }
 ],
 "metadata": {
  "kernelspec": {
   "display_name": "Python 3 (ipykernel)",
   "language": "python",
   "name": "python3"
  },
  "language_info": {
   "codemirror_mode": {
    "name": "ipython",
    "version": 3
   },
   "file_extension": ".py",
   "mimetype": "text/x-python",
   "name": "python",
   "nbconvert_exporter": "python",
   "pygments_lexer": "ipython3",
   "version": "3.11.5"
  }
 },
 "nbformat": 4,
 "nbformat_minor": 5
}
